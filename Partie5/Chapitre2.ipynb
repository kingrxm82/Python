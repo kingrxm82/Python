{
 "cells": [
  {
   "cell_type": "code",
   "execution_count": 1,
   "metadata": {},
   "outputs": [],
   "source": [
    "# Les types de modéles\n",
    "\n",
    "# Modéle de regression\n",
    "## Jeu de données de taille limité\n",
    "## Les relation entre les variables sont linéaires\n",
    "## GLM (Generalized Linear Model)\n",
    "\n",
    "# Modéle à base d'arbre ( Decision tree, Random forest, XGBoost)\n",
    "## Jeu de données tabulaires de taille plus conséquant \n",
    "## Robuste face aux données manquantes(null) ou observations aberantes(valeur s'escarte tres loin des autres)\n",
    "\n",
    "# Réseaux neuroniale et le Deep Learning\n",
    "## Données aux gros volume\n",
    "## Nature complexe"
   ]
  },
  {
   "cell_type": "code",
   "execution_count": 7,
   "metadata": {},
   "outputs": [],
   "source": [
    "# Sachez définir un modèle\n",
    "\n",
    "## Modéle Linéaire\n",
    "\n",
    "## Importer la classe\n",
    "from sklearn.linear_model import LinearRegression\n",
    "\n",
    "## Soit des données artificielles\n",
    "X = [[0, 0], [1, 1]]\n",
    "y = [0, 1]\n",
    "\n",
    "## L'instanciation du modèle\n",
    "mdl = LinearRegression()\n",
    "mdl = mdl.fit(X, y)"
   ]
  },
  {
   "cell_type": "code",
   "execution_count": 14,
   "metadata": {},
   "outputs": [
    {
     "name": "stdout",
     "output_type": "stream",
     "text": [
      "1.5\n",
      "1.4166666666666665\n",
      "1.4142156862745097\n",
      "1.4142156862745097\n"
     ]
    }
   ],
   "source": [
    "# Sachez définir un algorithme\n",
    "\n",
    "## Sans utiliser une calculatrice ou un ordinateur, nous pouvons calculer une approximation de la racine de 2 par itérations. Pour cela, utilisons la méthode de Héron\n",
    "### Soit une valeur d'initialisation pour x:x=1\n",
    "### Fixons la précision attendue : précision = 0,001\n",
    "### Tant que |x^2 - 2| > précision\n",
    "#### x=(x+2/x)/2\n",
    "\n",
    "# Initialisation\n",
    "x = 1\n",
    "precision = 0.001\n",
    "# Boucle ittérative (Méthode de Héron)\n",
    "while (abs(x**2 - 2) > precision) :\n",
    "    x = (x + 2/x)/2\n",
    "    print(x) "
   ]
  },
  {
   "cell_type": "code",
   "execution_count": 15,
   "metadata": {},
   "outputs": [
    {
     "name": "stdout",
     "output_type": "stream",
     "text": [
      "1.5\n",
      "1.4166666666666665\n",
      "1.4142156862745097\n"
     ]
    }
   ],
   "source": [
    "# Sachez définir un algorithme 2\n",
    "# initialisation\n",
    "x = 1\n",
    "erreur = 1\n",
    "précision = 0.001\n",
    "# boucle itérative\n",
    "while (erreur > précision):\n",
    "    # mise à jour de l'estimation\n",
    "    x = (x + 2/x)/2\n",
    "    # mise à jour de l'erreur avec la nouvelle valeur de x\n",
    "    erreur = abs(x**2 - 2)\n",
    "    \n",
    "    print(x) "
   ]
  },
  {
   "cell_type": "code",
   "execution_count": null,
   "metadata": {},
   "outputs": [],
   "source": [
    "# Réference\n",
    "# https://openclassrooms.com/fr/courses/8063076-initiez-vous-au-machine-learning/8297197-decouvrez-les-notions-de-modele-et-d-algorithme"
   ]
  }
 ],
 "metadata": {
  "kernelspec": {
   "display_name": "base",
   "language": "python",
   "name": "python3"
  },
  "language_info": {
   "codemirror_mode": {
    "name": "ipython",
    "version": 3
   },
   "file_extension": ".py",
   "mimetype": "text/x-python",
   "name": "python",
   "nbconvert_exporter": "python",
   "pygments_lexer": "ipython3",
   "version": "3.11.5"
  }
 },
 "nbformat": 4,
 "nbformat_minor": 2
}
