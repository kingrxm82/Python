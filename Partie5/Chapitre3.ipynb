{
 "cells": [
  {
   "cell_type": "code",
   "execution_count": null,
   "metadata": {},
   "outputs": [],
   "source": [
    "# Un projet Machine Learning poséde trois phases importants\n",
    "\n",
    "## Définition des spécifications\n",
    "### Cette phase a pour but de traduire une problématique business, un besoin ou un produit en projet Machine Learning\n",
    "### Étude de benchmark\n",
    "#### - Comment définir le succès du projet ?\n",
    "#### - Comment mesurer la performance du système ? \n",
    "#### - Quelle métrique utiliser pour le scoring du modèle ? \n",
    "#### - Quel score sera-t-il nécessaire d'obtenir pour réaliser les objectifs du projet ? \n",
    "\n",
    "## Prototypage / Modélisation \n",
    "### Le but de l'étape de Machine Learning est d'obtenir un modèle performant : (bon score vis-à-vis de la métrique choisie et robuste : stable face à de nouvelles données). \n",
    "#### 1 - Mettre en forme des données (nettoyer les données,créer de nouvelles variables à partir de variables existantes,numériser les données catégoriques, textuelles ou images pour qu'elles soient ingérables par un modèle)\n",
    "#### 2 - Choisir le type de modèle (GLM, Tree, NN ou autre)\n",
    "#### 3 - Répartir des données avec une partie pour l'entrainement et une autre pour le test\n",
    "#### 4 - Optimiser les paramètres du modèle.\n",
    "\n",
    "## Production\n",
    "### C'est alors le travail des MLOps et des DevOps qui vont prendre en charge la mise en production dans le cloud ainsi que la surveillance des modèles.\n",
    "#### Le MLOps est un rôle clé qui a pour responsabilité de mettre les modèles en production et de les surveiller.(mis à jour ,(ré)entraînés,déployés,surveillés)"
   ]
  }
 ],
 "metadata": {
  "language_info": {
   "name": "python"
  }
 },
 "nbformat": 4,
 "nbformat_minor": 2
}
