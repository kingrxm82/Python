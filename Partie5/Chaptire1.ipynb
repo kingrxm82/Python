{
 "cells": [
  {
   "cell_type": "code",
   "execution_count": null,
   "metadata": {},
   "outputs": [],
   "source": [
    "# Modélisation prédictive (Machine Learning) : \n",
    "## La focnvtion prédictive est polyvalent selon les besoins (classification,supervision,détéction,proposition,ranking,prévision)\n",
    "## Généralement la variable cible  est égale une equation en focntion de variable prédictive plus de bruit (v_cible = fct(v_prédicitve) + bruit )"
   ]
  },
  {
   "cell_type": "code",
   "execution_count": null,
   "metadata": {},
   "outputs": [],
   "source": [
    "# Les étapes de Machine Learning\n",
    "## 1- Préparation des données\n",
    "## 2- Répartition des données\n",
    "## 2.1- Entrainement\n",
    "## 2.2- Test\n",
    "## 3- Optimisation"
   ]
  },
  {
   "cell_type": "code",
   "execution_count": null,
   "metadata": {},
   "outputs": [],
   "source": [
    "# Approce non supervisé\n",
    "## Clustering (regroupement automatique)\n",
    "## Pas d'étiquetage\n",
    "\n",
    "# Approce supervisé\n",
    "## Classifcation (Catégorie)\n",
    "## Regression (Vatiable continue)\n",
    "## Présence d'étiquetage"
   ]
  }
 ],
 "metadata": {
  "language_info": {
   "name": "python"
  }
 },
 "nbformat": 4,
 "nbformat_minor": 2
}
