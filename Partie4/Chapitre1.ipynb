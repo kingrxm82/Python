{
 "cells": [
  {
   "cell_type": "code",
   "execution_count": 1,
   "id": "47a0d98a",
   "metadata": {},
   "outputs": [
    {
     "data": {
      "text/plain": [
       "2134.4"
      ]
     },
     "execution_count": 1,
     "metadata": {},
     "output_type": "execute_result"
    }
   ],
   "source": [
    "#Différencier les arrays des listes classiques\n",
    "import numpy as np\n",
    "## les arrays NumPy\n",
    "revenus = [1800, 1500, 2200, 3000, 2172]\n",
    "### calculer la moyenne\n",
    "np.mean(revenus)\n",
    "### quelques d'autres fonction de numpy\n",
    "#### la valeur absolue abs(x)\n",
    "#### l'exponentielle exp(x)\n",
    "#### le logarithme log(x)"
   ]
  },
  {
   "cell_type": "code",
   "execution_count": 3,
   "id": "87ac9927",
   "metadata": {},
   "outputs": [],
   "source": [
    "#Créer un array(tableau) numpy\n",
    "import numpy as np\n",
    "revenus = [1800, 1500, 2200, 3000, 2172]\n",
    "revenus_array = np.array(revenus)\n",
    "\n",
    "## autres fonctions numpy permettent de créer des arrays\n",
    "### np.zeros(n): permet de créer un array rempli de 0, de n éléments ;\n",
    "### np.ones(n) : similaire en tous points à la fonction présentée ci-dessus, à la différence que l’array sera rempli cette fois-ci de 1 ;\n",
    "### np.arange(i, j, p)  : permet de créer un array rempli avec une séquence linéaire, qui ira de  i  à  j, par pas de  p  ;\n",
    "### np.linspace(i, j, n) : permet de créer un array de  n  valeurs espacées uniformément entre  i  et  j"
   ]
  },
  {
   "cell_type": "code",
   "execution_count": 4,
   "id": "3e0b4ca3",
   "metadata": {},
   "outputs": [
    {
     "data": {
      "text/plain": [
       "dtype('int64')"
      ]
     },
     "execution_count": 4,
     "metadata": {},
     "output_type": "execute_result"
    }
   ],
   "source": [
    "#Créer un array monotype\n",
    "import numpy as np\n",
    "revenus = [1800, 1500, 2200, 3000, 2172]\n",
    "revenus_array = np.array(revenus)\n",
    "revenus_array.dtype"
   ]
  },
  {
   "cell_type": "code",
   "execution_count": 13,
   "id": "670227d1",
   "metadata": {},
   "outputs": [
    {
     "name": "stdout",
     "output_type": "stream",
     "text": [
      "[1800 1900 2200 3000 2172]\n",
      "[1900 2000 2300 3000 2172]\n"
     ]
    },
    {
     "data": {
      "text/plain": [
       "array([2300, 2172])"
      ]
     },
     "execution_count": 13,
     "metadata": {},
     "output_type": "execute_result"
    }
   ],
   "source": [
    "#Sélectionner des éléements au sein d'un array\n",
    "import numpy as np\n",
    "revenus = [1800, 1500, 2200, 3000, 2172]\n",
    "revenus_array = np.array(revenus)\n",
    "\n",
    "## accéder à un seul élément\n",
    "### accéder au 5éme élement\n",
    "revenus_array[4]\n",
    "### accéder au dérnier élement\n",
    "revenus_array[-1]\n",
    "### modifier un élement\n",
    "revenus_array[1]=1900\n",
    "print(revenus_array)\n",
    "\n",
    "\n",
    "## accéder à plusieurs éléments\n",
    "### nom_array[i:j:p]\n",
    "#### i  : l’indice du début ;\n",
    "#### j  : l’indice de fin ;\n",
    "#### p : le pas.\n",
    "revenus_array[0:3] += 100\n",
    "print(revenus_array)\n",
    "\n",
    "## accéder à plusieurs éléments selon une condition\n",
    "### nom_array[condition de sélection]\n",
    "revenus_array[(revenus_array>2000)&(revenus_array<3000)]"
   ]
  },
  {
   "cell_type": "code",
   "execution_count": 36,
   "id": "f048f6d5",
   "metadata": {},
   "outputs": [
    {
     "data": {
      "text/plain": [
       "10672"
      ]
     },
     "execution_count": 36,
     "metadata": {},
     "output_type": "execute_result"
    }
   ],
   "source": [
    "#Utilisez les méthodes d'array\n",
    "import numpy as np\n",
    "revenus = [1800, 1500, 2200, 3000, 2172]\n",
    "revenus_array = np.array(revenus)\n",
    "\n",
    "## savoir le nombre des elements dans notre array\n",
    "revenus_array.shape\n",
    "\n",
    "## calculer le maximum et le minimum\n",
    "revenus_array.max()\n",
    "revenus_array.min()\n",
    "\n",
    "## accéder à l’indice de l’élement minimum ou maximum :\n",
    "revenus_array.argmin()\n",
    "revenus_array.argmax()\n",
    "\n",
    "## odonner par ordre croissant:\n",
    "revenus_array.sort()\n",
    "\n",
    "## calculer la somme :\n",
    "revenus_array.sum()"
   ]
  },
  {
   "cell_type": "code",
   "execution_count": 38,
   "id": "fa9cd370",
   "metadata": {},
   "outputs": [
    {
     "name": "stdout",
     "output_type": "stream",
     "text": [
      "[1800 1500 2200 3000 2172 5000 1400 1200 1100 1300]\n",
      "Les clients qui ont haute revenus [3000 5000]\n",
      "La somme de 12 mois est égale à 248064\n",
      "Moyenne de revenues est égale à 2067.2\n",
      "Revenues apres promotion :  [1800 1500 2200 3000 2172 5000 1600 1200 1100 1300]\n"
     ]
    }
   ],
   "source": [
    "#Exercice\n",
    "#https://openclassrooms.com/fr/courses/7771531-decouvrez-les-librairies-python-pour-la-data-science/7856832-creez-vos-premiers-arrays-avec-numpy\n",
    "\n",
    "import numpy as np\n",
    "\n",
    "liste = [1800, 1500, 2200, 3000, 2172, 5000, 1400, 1200, 1100, 1300]\n",
    "\n",
    "revenus = np.array(liste)\n",
    "print(revenus)\n",
    "\n",
    "haut_revenus = revenus[(liste_array>=3000)]\n",
    "print(\"Les clients qui ont haute revenus\",haut_revenus)\n",
    "\n",
    "somme = revenus.sum()*12\n",
    "print(\"La somme de 12 mois est égale à\",somme)\n",
    "\n",
    "moyenne = np.mean(revenus)\n",
    "print(\"Moyenne de revenues est égale à\",moyenne)\n",
    "\n",
    "revenus[revenus == 1400] = 1600\n",
    "print(\"Revenues apres promotion : \",revenus)"
   ]
  }
 ],
 "metadata": {
  "kernelspec": {
   "display_name": "Python 3 (ipykernel)",
   "language": "python",
   "name": "python3"
  },
  "language_info": {
   "codemirror_mode": {
    "name": "ipython",
    "version": 3
   },
   "file_extension": ".py",
   "mimetype": "text/x-python",
   "name": "python",
   "nbconvert_exporter": "python",
   "pygments_lexer": "ipython3",
   "version": "3.11.5"
  }
 },
 "nbformat": 4,
 "nbformat_minor": 5
}
