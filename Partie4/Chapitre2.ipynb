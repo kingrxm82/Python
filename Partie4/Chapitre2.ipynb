{
 "cells": [
  {
   "cell_type": "code",
   "execution_count": null,
   "id": "1c389876",
   "metadata": {},
   "outputs": [],
   "source": [
    "#Transformez vos données en tableaux\n",
    "# Créez un tableau avec NumPy\n",
    "import numpy as np\n",
    "## créer un matrice de 2 colones et 3 lignes\n",
    "table1=np.array([[1,2],[3,4],[5,6]])\n",
    "## créer un matrice de 3 colones et 2 lignes\n",
    "table2=np.array([[1,2,3],[4,5,6]])\n",
    "## tableau de 3*5 rempli de 1\n",
    "table3=np.ones((3,5))\n",
    "# un tableau de 3x5 rempli de valeurs aléatoires entières, comprises entre 1 et 10\n",
    "table4=np.random.randint(1, 10, size=(3, 5))"
   ]
  },
  {
   "cell_type": "code",
   "execution_count": 5,
   "id": "dcfd17ed",
   "metadata": {},
   "outputs": [
    {
     "name": "stdout",
     "output_type": "stream",
     "text": [
      "[[ 6 12]\n",
      " [18 24]]\n",
      "[[ -4  -8]\n",
      " [-12 -16]]\n",
      "[[ 5 20]\n",
      " [45 80]]\n",
      "[[0.2 0.2]\n",
      " [0.2 0.2]]\n"
     ]
    }
   ],
   "source": [
    "#L’analogie entre les arrays et les matrices\n",
    "import numpy as np\n",
    "matrice1=np.array([[1,2],[3,4]])\n",
    "matrice2=np.array([[5,10],[15,20]])\n",
    "# addition\n",
    "matrice3=matrice1+matrice2\n",
    "print(matrice3)\n",
    "# soustraction\n",
    "matrice4=matrice1-matrice2\n",
    "print(matrice4)\n",
    "# multiplication\n",
    "matrice5=matrice1*matrice2\n",
    "print(matrice5)\n",
    "# division\n",
    "matrice6=matrice1/matrice2\n",
    "print(matrice6)"
   ]
  },
  {
   "cell_type": "code",
   "execution_count": 12,
   "id": "5314054b",
   "metadata": {},
   "outputs": [
    {
     "data": {
      "text/plain": [
       "array([[1300,  400,   23],\n",
       "       [1700,  560,   24],\n",
       "       [2500,  900,   30],\n",
       "       [3000, 1000,   22],\n",
       "       [2400,  700,   28],\n",
       "       [3000,  700,   34],\n",
       "       [3500,  900,   35],\n",
       "       [4000, 1200,   35],\n",
       "       [3300,  950,   27],\n",
       "       [1850,  600,   25],\n",
       "       [1750,  650,   21]])"
      ]
     },
     "execution_count": 12,
     "metadata": {},
     "output_type": "execute_result"
    }
   ],
   "source": [
    "#Maîtrisez les manipulations avancées d’array\n",
    "import numpy as np\n",
    "#revenu,mensualité,age\n",
    "hugo=[1300,400,23]\n",
    "richard=[1700,560,24]\n",
    "emilie=[2500,900,30]\n",
    "gaspard=[3000,1000,22]\n",
    "yohann=[2400,700,28]\n",
    "chloe=[3000,700,34]\n",
    "mathieu=[3500,900,35]\n",
    "luc=[4000,1200,35]\n",
    "rachel=[3300,950,27]\n",
    "maude=[1850,600,25]\n",
    "\n",
    "tableau = [hugo,richard,emilie,gaspard,yohann,chloe,mathieu,luc,rachel,maude]\n",
    "\n",
    "data = np.array(tableau)\n",
    "\n",
    "# accéder à un element spécifiques (premiere ligne,premiere colone)\n",
    "data[0,0]\n",
    "# accéder à une ligne spécifique (premiere ligne)\n",
    "data[0,:]\n",
    "# accéder à une colone spécifique (troisiéme colone)\n",
    "data[:,2]\n",
    "# accéder au données sous condition (affiche les données quand les valeurs de troisieme colone sont égales ou moins de 25)\n",
    "data[data[:,2]<=25]\n",
    "# ajouter une nouvelle ligne\n",
    "fred=[1750,650,21]\n",
    "np.vstack((data,fred))"
   ]
  },
  {
   "cell_type": "code",
   "execution_count": 30,
   "id": "8e009e78",
   "metadata": {},
   "outputs": [
    {
     "name": "stdout",
     "output_type": "stream",
     "text": [
      "Informations de Paul :\n",
      "[2172   37    2]\n",
      "-\n",
      "Ses mensualités maximales sont de : 760.2 €\n",
      "-\n",
      "[1800 1500 2200 3000 2172 5000 1400 1200 1100 1300]\n"
     ]
    }
   ],
   "source": [
    "#Exercice\n",
    "#https://openclassrooms.com/fr/courses/7771531-decouvrez-les-librairies-python-pour-la-data-science/7857032-transformez-vos-donnees-en-tableaux\n",
    "import numpy as np\n",
    "\n",
    "hugo = [1800, 21, 0]\n",
    "richard = [1500, 54, 2]\n",
    "emilie = [2200, 28, 3]\n",
    "pierre = [3000, 37, 1]\n",
    "paul = [2172, 37, 2]\n",
    "deborah = [5000, 32, 0]\n",
    "yohann = [1400, 23, 0]\n",
    "anne = [1200, 25, 1]\n",
    "thibault = [1100, 19, 0]\n",
    "emmanuel = [1300, 31, 2]\n",
    "\n",
    "tableau = [hugo, richard, emilie, pierre, paul, deborah,yohann, anne, thibault, emmanuel]\n",
    "\n",
    "data = np.array(tableau)\n",
    "\n",
    "print(\"Informations de Paul :\")\n",
    "print(data[4, :])\n",
    "print(\"-\")\n",
    "print(\"Ses mensualités maximales sont de :\", round(data[4,0]*0.35, 2), \"€\")\n",
    "print(\"-\")\n",
    "\n",
    "louise=[1900,31,1]\n",
    "np.vstack((data,louise))\n",
    "\n",
    "revenus = data[:, 0]\n",
    "print(revenus)"
   ]
  }
 ],
 "metadata": {
  "kernelspec": {
   "display_name": "Python 3 (ipykernel)",
   "language": "python",
   "name": "python3"
  },
  "language_info": {
   "codemirror_mode": {
    "name": "ipython",
    "version": 3
   },
   "file_extension": ".py",
   "mimetype": "text/x-python",
   "name": "python",
   "nbconvert_exporter": "python",
   "pygments_lexer": "ipython3",
   "version": "3.11.5"
  }
 },
 "nbformat": 4,
 "nbformat_minor": 5
}
