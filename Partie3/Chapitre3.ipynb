{
 "cells": [
  {
   "cell_type": "code",
   "execution_count": 3,
   "id": "e93cadbe",
   "metadata": {},
   "outputs": [
    {
     "name": "stdout",
     "output_type": "stream",
     "text": [
      "13\n"
     ]
    }
   ],
   "source": [
    "#Écriver des fonctions\n",
    "\n",
    "## créer la fonction\n",
    "def afficherPerimetre():\n",
    "    cote_A=6\n",
    "    cote_B=4\n",
    "    cote_C=3\n",
    "    perimetre=cote_A+cote_B+cote_C\n",
    "    print(perimetre)\n",
    "    \n",
    "## appeler la fonction\n",
    "afficherPerimetre()"
   ]
  },
  {
   "cell_type": "code",
   "execution_count": 5,
   "id": "7e442c24",
   "metadata": {},
   "outputs": [
    {
     "name": "stdout",
     "output_type": "stream",
     "text": [
      "13\n"
     ]
    }
   ],
   "source": [
    "#Définisser des parametres\n",
    "def afficherPerimetre(cote_A,cote_B,cote_C):\n",
    "    perimetre=cote_A+cote_B+cote_C\n",
    "    print(perimetre)\n",
    "afficherPerimetre(6,4,3)"
   ]
  },
  {
   "cell_type": "code",
   "execution_count": 7,
   "id": "2f139ca1",
   "metadata": {},
   "outputs": [
    {
     "name": "stdout",
     "output_type": "stream",
     "text": [
      "Le permietre de notre variable est:  13\n"
     ]
    }
   ],
   "source": [
    "#Définisser une valeur retournée\n",
    "def calculerPerimetre(cote1, cote2, cote3):\n",
    "    perimetre = cote1 + cote2 + cote3\n",
    "    return perimetre\n",
    "perimetre_a_calculer=calculerPerimetre(6,4,3)\n",
    "print(\"Le permietre de notre variable est: \",perimetre_a_calculer)"
   ]
  },
  {
   "cell_type": "code",
   "execution_count": 9,
   "id": "497c14ac",
   "metadata": {},
   "outputs": [
    {
     "name": "stdout",
     "output_type": "stream",
     "text": [
      "Help on built-in function pow in module builtins:\n",
      "\n",
      "pow(base, exp, mod=None)\n",
      "    Equivalent to base**exp with 2 arguments or base**exp % mod with 3 arguments\n",
      "    \n",
      "    Some types, such as ints, are able to use a more efficient algorithm when\n",
      "    invoked using the three argument form.\n",
      "\n"
     ]
    }
   ],
   "source": [
    "#Utiliser la fonction gelp en cas d'oubli\n",
    "help(pow)"
   ]
  },
  {
   "cell_type": "code",
   "execution_count": null,
   "id": "cd46066f",
   "metadata": {},
   "outputs": [],
   "source": []
  }
 ],
 "metadata": {
  "kernelspec": {
   "display_name": "Python 3 (ipykernel)",
   "language": "python",
   "name": "python3"
  },
  "language_info": {
   "codemirror_mode": {
    "name": "ipython",
    "version": 3
   },
   "file_extension": ".py",
   "mimetype": "text/x-python",
   "name": "python",
   "nbconvert_exporter": "python",
   "pygments_lexer": "ipython3",
   "version": "3.11.5"
  }
 },
 "nbformat": 4,
 "nbformat_minor": 5
}
