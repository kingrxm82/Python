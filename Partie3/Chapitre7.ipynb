{
 "cells": [
  {
   "cell_type": "code",
   "execution_count": 1,
   "id": "c20b6952",
   "metadata": {},
   "outputs": [
    {
     "name": "stdout",
     "output_type": "stream",
     "text": [
      "1\n",
      "2\n",
      "3\n",
      "4\n",
      "5\n"
     ]
    }
   ],
   "source": [
    "#Boucle For\n",
    "liste = [1,2,3,4,5]\n",
    "for element in liste:\n",
    "    print(element)"
   ]
  },
  {
   "cell_type": "code",
   "execution_count": 2,
   "id": "4d6821c4",
   "metadata": {},
   "outputs": [
    {
     "name": "stdout",
     "output_type": "stream",
     "text": [
      "J'ai planté 1 arbres\n",
      "J'ai planté 2 arbres\n",
      "J'ai planté 3 arbres\n",
      "J'ai planté 4 arbres\n",
      "J'ai planté 5 arbres\n",
      "J'ai planté 6 arbres\n",
      "J'ai planté 7 arbres\n",
      "J'ai planté 8 arbres\n",
      "J'ai planté 9 arbres\n",
      "J'ai planté 10 arbres\n",
      "J'ai une chouette forêt\n"
     ]
    }
   ],
   "source": [
    "#Boucle while\n",
    "nombreArbres = 0\n",
    "while nombreArbres<10:\n",
    "    nombreArbres+=1\n",
    "    print(\"J'ai planté\",nombreArbres,\"arbres\")\n",
    "print(\"J'ai une chouette forêt\")"
   ]
  },
  {
   "cell_type": "code",
   "execution_count": 2,
   "id": "ae452062",
   "metadata": {},
   "outputs": [
    {
     "name": "stdout",
     "output_type": "stream",
     "text": [
      "OpenClassRooms est vraiment top\n",
      "OpenClassRooms est vraiment top\n",
      "OpenClassRooms est vraiment top\n",
      "OpenClassRooms est vraiment top\n",
      "OpenClassRooms est vraiment top\n",
      "OpenClassRooms est vraiment top\n",
      "OpenClassRooms est vraiment top\n",
      "OpenClassRooms est vraiment top\n",
      "OpenClassRooms est vraiment top\n",
      "OpenClassRooms est vraiment top\n"
     ]
    }
   ],
   "source": [
    "#Exercice \n",
    "#https://openclassrooms.com/fr/courses/6204541-initiez-vous-a-python-pour-lanalyse-de-donnees/6248726-choisissez-la-boucle-adequate\n",
    "\n",
    "## option 1\n",
    "for i in range(5):\n",
    "    print(\"OpenClassRooms est vraiment top\")\n",
    "\n",
    "## option 2\n",
    "n = 0\n",
    "while n < 5:\n",
    "    n+=1\n",
    "    print(\"OpenClassRooms est vraiment top\")\n"
   ]
  },
  {
   "cell_type": "code",
   "execution_count": null,
   "id": "02e2b38f",
   "metadata": {},
   "outputs": [],
   "source": []
  }
 ],
 "metadata": {
  "kernelspec": {
   "display_name": "Python 3 (ipykernel)",
   "language": "python",
   "name": "python3"
  },
  "language_info": {
   "codemirror_mode": {
    "name": "ipython",
    "version": 3
   },
   "file_extension": ".py",
   "mimetype": "text/x-python",
   "name": "python",
   "nbconvert_exporter": "python",
   "pygments_lexer": "ipython3",
   "version": "3.11.5"
  }
 },
 "nbformat": 4,
 "nbformat_minor": 5
}
