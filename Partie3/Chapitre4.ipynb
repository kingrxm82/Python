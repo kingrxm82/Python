{
 "cells": [
  {
   "cell_type": "code",
   "execution_count": null,
   "id": "1da3e0fc",
   "metadata": {},
   "outputs": [],
   "source": [
    "#Les classes et méthodes\n",
    "##Une classe est en quelque sorte le schéma de construction d’un objet qui va définir les caractéristiques de tous les objets de ce type et leurs fonctionnalités. À partir de cette classe, vous allez pouvoir créer différents modèles d’un objet."
   ]
  },
  {
   "cell_type": "code",
   "execution_count": null,
   "id": "657788e1",
   "metadata": {},
   "outputs": [],
   "source": [
    "#Les méthodes de chaînes de caractères\n",
    "\n",
    "##upper()  : retourne l’ensemble du texte en majuscules ;\n",
    "##capitalize()  : retourne l’ensemble du texte en minuscules avec la première lettre en majuscule ;\n",
    "##replace(old, new)  : cette méthode prend deux arguments. old correspond au(x) caractère(s) remplacé(s), new correspond au(x) caractère(s) remplaçant(s) ;\n",
    "##find(chaîne)  : retourne soit l’indice de la première occurrence de la chaîne passée en argument, soit -1 si elle ne la trouve pas."
   ]
  },
  {
   "cell_type": "code",
   "execution_count": 2,
   "id": "2ba0a2c4",
   "metadata": {
    "scrolled": true
   },
   "outputs": [
    {
     "name": "stdout",
     "output_type": "stream",
     "text": [
      "je suis enerve\n"
     ]
    }
   ],
   "source": [
    "#Exercice\n",
    "#https://openclassrooms.com/fr/courses/6204541-initiez-vous-a-python-pour-lanalyse-de-donnees/6237921-programmez-en-oriente-objet\n",
    "\n",
    "maPhrase = \"JE SUIS ENERVE\"\n",
    "maPhraseMiniscule = maPhrase.lower()\n",
    "print(maPhraseMiniscule)"
   ]
  }
 ],
 "metadata": {
  "kernelspec": {
   "display_name": "Python 3 (ipykernel)",
   "language": "python",
   "name": "python3"
  },
  "language_info": {
   "codemirror_mode": {
    "name": "ipython",
    "version": 3
   },
   "file_extension": ".py",
   "mimetype": "text/x-python",
   "name": "python",
   "nbconvert_exporter": "python",
   "pygments_lexer": "ipython3",
   "version": "3.11.5"
  }
 },
 "nbformat": 4,
 "nbformat_minor": 5
}
