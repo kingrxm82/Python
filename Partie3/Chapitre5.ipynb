{
 "cells": [
  {
   "cell_type": "code",
   "execution_count": 2,
   "id": "e2dcd2b8",
   "metadata": {
    "scrolled": true
   },
   "outputs": [
    {
     "name": "stdout",
     "output_type": "stream",
     "text": [
      "Georges Dupond\n"
     ]
    }
   ],
   "source": [
    "#Déclarez une liste pour stocker vos éléments\n",
    "\n",
    "## créer une liste\n",
    "nomClient = ['Georges Dupont', 'Luc Martin', 'Lucas Anderson', 'Alexandre Petit']\n",
    "\n",
    "## accéder à une liste / changer un valeur de la liste\n",
    "nomClient[0]='Georges Dupond'\n",
    "print(nomClient[0])"
   ]
  },
  {
   "cell_type": "code",
   "execution_count": 3,
   "id": "b8ea9080",
   "metadata": {},
   "outputs": [
    {
     "name": "stdout",
     "output_type": "stream",
     "text": [
      "rouge\n",
      "jaune\n",
      "orange\n",
      "émeraude\n",
      "bleu\n"
     ]
    }
   ],
   "source": [
    "#Exercice 1\n",
    "#https://openclassrooms.com/fr/courses/6204541-initiez-vous-a-python-pour-lanalyse-de-donnees/6241231-creez-des-tableaux-pour-stocker-vos-variables\n",
    "\n",
    "couleurs=['rouge','jaune','orange','vert','bleu']\n",
    "\n",
    "couleurs[3]='émeraude'\n",
    "\n",
    "for couleur in couleurs:\n",
    "    print(couleur)"
   ]
  },
  {
   "cell_type": "code",
   "execution_count": 15,
   "id": "7827b97e",
   "metadata": {},
   "outputs": [
    {
     "name": "stdout",
     "output_type": "stream",
     "text": [
      "[7, 5]\n",
      "[7, 12, 5]\n",
      "[7, 12, 5, 1, 2, 3]\n",
      "[7, 5, 1, 2, 3]\n",
      "[7, 1, 2, 3]\n"
     ]
    },
    {
     "data": {
      "text/plain": [
       "4"
      ]
     },
     "execution_count": 15,
     "metadata": {},
     "output_type": "execute_result"
    }
   ],
   "source": [
    "#Les méthodes de listes\n",
    "\n",
    "## déclarer une liste vide\n",
    "liste=[]\n",
    "\n",
    "## ajouter un élement (append)\n",
    "liste.append(7)\n",
    "liste.append(5)\n",
    "print(liste)\n",
    "\n",
    "## insérer un élement à une position spécifique (insert)\n",
    "liste.insert(1,12)\n",
    "print(liste)\n",
    "\n",
    "## ajouter plusieurs élements(extend)\n",
    "liste.extend([1,2,3])\n",
    "print(liste)\n",
    "\n",
    "## supprimer un élement (remove)\n",
    "liste.remove(12)\n",
    "print(liste)\n",
    "\n",
    "## donner un indice d'un element (index)\n",
    "liste.index(5) ## index = 1\n",
    "\n",
    "## supprimer un element avec son indice (del)\n",
    "del liste[1]\n",
    "print(liste)\n",
    "\n",
    "## donner la longeur de la liste\n",
    "len(liste)"
   ]
  },
  {
   "cell_type": "code",
   "execution_count": 16,
   "id": "22e85337",
   "metadata": {},
   "outputs": [
    {
     "name": "stdout",
     "output_type": "stream",
     "text": [
      "Martin\n",
      "Marie\n"
     ]
    }
   ],
   "source": [
    "#Exercice 2\n",
    "#https://openclassrooms.com/fr/courses/6204541-initiez-vous-a-python-pour-lanalyse-de-donnees/6241231-creez-des-tableaux-pour-stocker-vos-variables\n",
    "invites=[]\n",
    "invites.extend(['Joey','Martin','Marie'])\n",
    "len(invites)\n",
    "invites.remove('Joey')\n",
    "for invite in invites:\n",
    "    print(invite)"
   ]
  },
  {
   "cell_type": "code",
   "execution_count": 20,
   "id": "be1ca96c",
   "metadata": {},
   "outputs": [
    {
     "name": "stdout",
     "output_type": "stream",
     "text": [
      "12000\n",
      "{'Georges Dupont': 12000, 'Luc Martin': 150, 'Lucas Anderson': 300}\n"
     ]
    },
    {
     "data": {
      "text/plain": [
       "3"
      ]
     },
     "execution_count": 20,
     "metadata": {},
     "output_type": "execute_result"
    }
   ],
   "source": [
    "#Utilisez les dictionnaires\n",
    "\n",
    "## déclarer un dictionnaire\n",
    "comptes = {\"Georges Dupont\": 10000, \"Luc Martin\": 150, \"Lucas Anderson\": 300, \"Alexandre Petit\": 1800.74}\n",
    "\n",
    "## accéder à un élement de dictionnaire /\n",
    "comptes['Georges Dupont']+=2000\n",
    "print(comptes['Georges Dupont'])\n",
    "\n",
    "## supprimer un element (pop)\n",
    "comptes.pop('Alexandre Petit')\n",
    "print(comptes)\n",
    "\n",
    "## donner la longeur de dictionnaire\n",
    "len(comptes)"
   ]
  }
 ],
 "metadata": {
  "kernelspec": {
   "display_name": "Python 3 (ipykernel)",
   "language": "python",
   "name": "python3"
  },
  "language_info": {
   "codemirror_mode": {
    "name": "ipython",
    "version": 3
   },
   "file_extension": ".py",
   "mimetype": "text/x-python",
   "name": "python",
   "nbconvert_exporter": "python",
   "pygments_lexer": "ipython3",
   "version": "3.11.5"
  }
 },
 "nbformat": 4,
 "nbformat_minor": 5
}
