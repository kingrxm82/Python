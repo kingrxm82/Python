{
 "cells": [
  {
   "cell_type": "code",
   "execution_count": 3,
   "id": "f910fc2a",
   "metadata": {},
   "outputs": [],
   "source": [
    "#Déclarer une variable\n",
    "prenom = \"Ramzi\"\n",
    "nom = \"Mejri\"\n",
    "age = 23"
   ]
  },
  {
   "cell_type": "code",
   "execution_count": 5,
   "id": "1a7693b5",
   "metadata": {},
   "outputs": [],
   "source": [
    "#Les opérateurs basiques\n",
    "compteCourant = 2300\n",
    "compteEpargne = 700\n",
    "# ajouter 100 à notre épargne (Yeah!)\n",
    "compteEpargne = compteEpargne + 100\n",
    "# enlever 50 de notre compte courant (Snif)\n",
    "compteCourant = compteCourant - 50\n",
    "# calculer le nombre de jours à économiser pour atteindre 5000€\n",
    "nombreJoursEconomiser = (5000 - compteCourant) / 500\n",
    "# mettre à jour notre compte courant (encore) après les gains/pertes journaliers\n",
    "compteCourant = compteCourant + (30 - 10) * 7\n",
    "\n",
    "#Les opérateurs un peu compliqué\n",
    "Modulo = 100 % 2\n",
    "Puissance = 2**2\n",
    "divEntiere = 10 // 2"
   ]
  },
  {
   "cell_type": "code",
   "execution_count": 10,
   "id": "fb0b9463",
   "metadata": {},
   "outputs": [
    {
     "name": "stdout",
     "output_type": "stream",
     "text": [
      "Le solde de votre compte était de 10000 €\n",
      "Il vous a rapporté 75.0 € cette année\n"
     ]
    }
   ],
   "source": [
    "#Excercice1\n",
    "#https://openclassrooms.com/fr/courses/6204541-initiez-vous-a-python-pour-lanalyse-de-donnees/6212661-declarez-une-variable\n",
    "\n",
    "compteEpargne = 10000\n",
    "taux = 0.75\n",
    "\n",
    "interets = compteEpargne*(taux/100)\n",
    "\n",
    "print(\"Le solde de votre compte était de\", compteEpargne, \"€\\nIl vous a rapporté\", interets, \"€ cette année\")"
   ]
  },
  {
   "cell_type": "code",
   "execution_count": 11,
   "id": "fc8ad0ed",
   "metadata": {},
   "outputs": [],
   "source": [
    "#Les opérateurs simplifiés\n",
    "# (-=)(+=)(/=)(%=)etc"
   ]
  },
  {
   "cell_type": "code",
   "execution_count": 12,
   "id": "d79348b4",
   "metadata": {},
   "outputs": [
    {
     "name": "stdout",
     "output_type": "stream",
     "text": [
      "Vos économies sont de:  3500\n"
     ]
    }
   ],
   "source": [
    "#Exercice2\n",
    "#https://openclassrooms.com/fr/courses/6204541-initiez-vous-a-python-pour-lanalyse-de-donnees/6212661-declarez-une-variable\n",
    "compte =200\n",
    "economies=3000\n",
    "\n",
    "economies += 500\n",
    "\n",
    "print(\"Vos économies sont de: \",economies)"
   ]
  },
  {
   "cell_type": "code",
   "execution_count": null,
   "id": "7f04827e",
   "metadata": {},
   "outputs": [],
   "source": []
  }
 ],
 "metadata": {
  "kernelspec": {
   "display_name": "Python 3 (ipykernel)",
   "language": "python",
   "name": "python3"
  },
  "language_info": {
   "codemirror_mode": {
    "name": "ipython",
    "version": 3
   },
   "file_extension": ".py",
   "mimetype": "text/x-python",
   "name": "python",
   "nbconvert_exporter": "python",
   "pygments_lexer": "ipython3",
   "version": "3.11.5"
  }
 },
 "nbformat": 4,
 "nbformat_minor": 5
}
