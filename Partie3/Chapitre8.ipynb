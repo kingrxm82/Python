{
 "cells": [
  {
   "cell_type": "code",
   "execution_count": null,
   "metadata": {},
   "outputs": [],
   "source": [
    "#Manipulez des nombres aléatoires avec le module random\n",
    "\n",
    "##Générez des nombres aléatoires\n",
    "import random\n",
    "\n",
    "for i in range(3):\n",
    "    print(random.uniform(5,10))\n",
    "    \n",
    "for i in range(3):\n",
    "    print(random.randint(5,10))\n",
    "    "
   ]
  },
  {
   "cell_type": "code",
   "execution_count": null,
   "metadata": {},
   "outputs": [],
   "source": [
    "#Générez un nombre aléatoire selon une distribution donnée\n",
    "\n",
    "## gauss (moyenne,écart-type)\n",
    "### la majeure partie des individus se situent autour d’une moyenne, avec des proportions décroissantes en dessous et au-dessus de cette moyenne\n",
    "for i in range(10):\n",
    "    print(random.gauss(0,1))"
   ]
  },
  {
   "cell_type": "code",
   "execution_count": null,
   "metadata": {},
   "outputs": [],
   "source": [
    "#Choisissez aléatoirement dans une liste : sous-échantillonnage\n",
    "\n",
    "## une fonction permettant de faire la sélection directement sur la liste (choice)\n",
    "liste=['one','two','three','four','five']\n",
    "for i in range(3):\n",
    "    print(random.choice(liste))"
   ]
  }
 ],
 "metadata": {
  "kernelspec": {
   "display_name": "base",
   "language": "python",
   "name": "python3"
  },
  "language_info": {
   "codemirror_mode": {
    "name": "ipython",
    "version": 3
   },
   "file_extension": ".py",
   "mimetype": "text/x-python",
   "name": "python",
   "nbconvert_exporter": "python",
   "pygments_lexer": "ipython3",
   "version": "3.11.5"
  }
 },
 "nbformat": 4,
 "nbformat_minor": 2
}
