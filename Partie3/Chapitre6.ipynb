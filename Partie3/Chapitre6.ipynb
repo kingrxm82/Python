{
 "cells": [
  {
   "cell_type": "code",
   "execution_count": 2,
   "id": "c38c0adc",
   "metadata": {},
   "outputs": [
    {
     "name": "stdout",
     "output_type": "stream",
     "text": [
      "Quel est votre nom\n",
      "hello world\n"
     ]
    }
   ],
   "source": [
    "#LES CONDITIONS\n",
    "\n",
    "## afficher les informations si elles sont disponibles (IF)\n",
    "nom = input(\"Quel est votre nom\")\n",
    "\n",
    "if len(nom) > 0:\n",
    "    print('hello ',nom,' !')\n",
    "else:\n",
    "    print('hello world')"
   ]
  },
  {
   "cell_type": "code",
   "execution_count": 3,
   "id": "adef647b",
   "metadata": {},
   "outputs": [
    {
     "data": {
      "text/plain": [
       "True"
      ]
     },
     "execution_count": 3,
     "metadata": {},
     "output_type": "execute_result"
    }
   ],
   "source": [
    "#Utiliser les booléens\n",
    "\n",
    "##  est une méthode de la classe string, qui retourne  True  lorsque la chaîne de caractères commence exactement par le string passé en paramètre (startswith)\n",
    "meteo = \"La météo est chouette !\"\n",
    "meteo.startswith(\"La météo\")\n",
    "\n"
   ]
  },
  {
   "cell_type": "code",
   "execution_count": null,
   "id": "c656b5a5",
   "metadata": {},
   "outputs": [],
   "source": []
  }
 ],
 "metadata": {
  "kernelspec": {
   "display_name": "Python 3 (ipykernel)",
   "language": "python",
   "name": "python3"
  },
  "language_info": {
   "codemirror_mode": {
    "name": "ipython",
    "version": 3
   },
   "file_extension": ".py",
   "mimetype": "text/x-python",
   "name": "python",
   "nbconvert_exporter": "python",
   "pygments_lexer": "ipython3",
   "version": "3.11.5"
  }
 },
 "nbformat": 4,
 "nbformat_minor": 5
}
